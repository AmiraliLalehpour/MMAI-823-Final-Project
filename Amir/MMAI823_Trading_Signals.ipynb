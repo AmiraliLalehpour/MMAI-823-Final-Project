{
 "cells": [
  {
   "cell_type": "code",
   "execution_count": null,
   "id": "df02d8e1",
   "metadata": {},
   "outputs": [],
   "source": [
    "import os\n",
    "import numpy as np\n",
    "import pandas as pd\n",
    "import matplotlib.pyplot as plt\n",
    "import yfinance as yf\n",
    "import seaborn as sns\n",
    "import datetime"
   ]
  },
  {
   "cell_type": "code",
   "execution_count": null,
   "id": "179dd8f8",
   "metadata": {},
   "outputs": [],
   "source": [
    "current_directory = os.getcwd()\n",
    "print(current_directory)"
   ]
  },
  {
   "cell_type": "code",
   "execution_count": null,
   "id": "829fc287",
   "metadata": {},
   "outputs": [],
   "source": [
    "data = pd.read_csv('output.csv')"
   ]
  },
  {
   "cell_type": "code",
   "execution_count": null,
   "id": "dd15c21f",
   "metadata": {},
   "outputs": [],
   "source": [
    "data['timestamp'] = pd.to_datetime(data['timestamp'])"
   ]
  },
  {
   "cell_type": "code",
   "execution_count": null,
   "id": "5fbf26fd",
   "metadata": {},
   "outputs": [],
   "source": [
    "# Find the minimum and maximum values of the \"timestamp\" column\n",
    "min_timestamp = data['timestamp'].min()\n",
    "max_timestamp = data['timestamp'].max()\n",
    "\n",
    "# Print the results\n",
    "print(\"Minimum Timestamp:\", min_timestamp)\n",
    "print(\"Maximum Timestamp:\", max_timestamp)"
   ]
  },
  {
   "cell_type": "code",
   "execution_count": null,
   "id": "a4afed55",
   "metadata": {
    "scrolled": true
   },
   "outputs": [],
   "source": [
    "df_sorted_sentiment = data.sort_values('timestamp')\n",
    "df_sorted_sentiment.head()"
   ]
  },
  {
   "cell_type": "code",
   "execution_count": null,
   "id": "e3187c57",
   "metadata": {},
   "outputs": [],
   "source": [
    "df_daily_compound = df_sorted_sentiment.groupby(pd.Grouper(key='timestamp', freq='D')).agg({'compound_score': 'mean'}).reset_index()"
   ]
  },
  {
   "cell_type": "code",
   "execution_count": null,
   "id": "fa37d44b",
   "metadata": {},
   "outputs": [],
   "source": [
    "df_daily_compound['sentiment_signal'] = df_daily_compound['compound_score'].apply(lambda x: 1 if x > 0 else (-1 if x < 0 else 0))"
   ]
  },
  {
   "cell_type": "code",
   "execution_count": null,
   "id": "ba535737",
   "metadata": {},
   "outputs": [],
   "source": [
    "df_daily_compound.set_index('timestamp', inplace=True)\n",
    "df_daily_compound.head(100)"
   ]
  },
  {
   "cell_type": "code",
   "execution_count": null,
   "id": "b9855f13",
   "metadata": {},
   "outputs": [],
   "source": [
    "stockList = [\"GME\", \"AMC\"]"
   ]
  },
  {
   "cell_type": "code",
   "execution_count": null,
   "id": "f2a0c6a4",
   "metadata": {},
   "outputs": [],
   "source": [
    "startDate = \"2021-01-28\"\n",
    "# startDate = \"2020-10-30\" # Adding 90 days befoe to have 90 days for the momentum strategy with 90 day period\n",
    "# startDate = \"2020-09-29\"\n",
    "endDate = \"2021-08-16\"\n",
    "\n",
    "# startDate = \"2020-01-01\"\n",
    "# endDate = \"2021-12-31\""
   ]
  },
  {
   "cell_type": "code",
   "execution_count": null,
   "id": "1b76d0e0",
   "metadata": {},
   "outputs": [],
   "source": [
    "df = yf.download(stockList, start=startDate, end=endDate)"
   ]
  },
  {
   "cell_type": "code",
   "execution_count": null,
   "id": "5a745753",
   "metadata": {},
   "outputs": [],
   "source": [
    "df.head()"
   ]
  },
  {
   "cell_type": "code",
   "execution_count": null,
   "id": "6af326fa",
   "metadata": {},
   "outputs": [],
   "source": [
    "df['sentiment_signal'] = df_daily_compound['sentiment_signal']"
   ]
  },
  {
   "cell_type": "code",
   "execution_count": null,
   "id": "ba9d63a8",
   "metadata": {},
   "outputs": [],
   "source": [
    "#Visualizing\n",
    "\n",
    "plt.figure(figsize = (14,10))\n",
    "\n",
    "#Line plots of stock prices over time. Note: this is actual price over that time period, which has been downloaded from Yahoo Finance\n",
    "\n",
    "plt.subplot(2,2,1)\n",
    "for symbol in stockList:\n",
    "  plt.plot(df['Close'][symbol], label=f'{symbol} Close Price')\n",
    "\n",
    "plt.title(\"Stock prices over time\")\n",
    "plt.xlabel(\"Date\")\n",
    "plt.ylabel(\"Price\")\n",
    "plt.legend()"
   ]
  },
  {
   "cell_type": "markdown",
   "id": "fb65d8ae",
   "metadata": {},
   "source": [
    "### Actual Returns of the 2 stocks"
   ]
  },
  {
   "cell_type": "code",
   "execution_count": null,
   "id": "5ba89160",
   "metadata": {},
   "outputs": [],
   "source": [
    "actual_returns = df[\"Close\"].iloc[-1]/df[\"Close\"].iloc[0] - 1\n",
    "\n",
    "print(\"Actual Returns:\")\n",
    "\n",
    "for symbol, return_value in actual_returns.items():\n",
    "\n",
    "  print(f\"{symbol}: {return_value:.2%}\")"
   ]
  },
  {
   "cell_type": "code",
   "execution_count": null,
   "id": "346533d9",
   "metadata": {},
   "outputs": [],
   "source": [
    "# Create a bar plot for actual returns\n",
    "plt.figure(figsize=(8, 6))\n",
    "sns.barplot(x=actual_returns.index, y=actual_returns.values, palette='Set1')\n",
    "plt.title('Actual Returns for GME and AMC')\n",
    "plt.ylabel('Returns')\n",
    "plt.xlabel('Stock Symbol')\n",
    "plt.xticks(ticks=np.arange(len(actual_returns)), labels=actual_returns.index)\n",
    "plt.tight_layout()\n",
    "plt.show()"
   ]
  },
  {
   "cell_type": "markdown",
   "id": "a626e489",
   "metadata": {},
   "source": [
    "## Price Momentum Strategy:\n",
    "\n",
    "The price momentum strategy is a type of trading strategy that capitalizes on the observed tendency of assets to continue moving in the same direction as their recent price trends. In other words, the strategy assumes that stocks that have recently shown strong positive price movements will continue to rise, and stocks that have recently exhibited weak price movements will continue to decline.\n",
    "\n",
    "Step 1: Fetching historical data for these two stocks has been completed\n",
    "\n",
    "Step 2: Calculating Momentum: The goal is to calculate the price momentum as the percentage change in the stock;s closing price over specified period (e.g.: 3 months):"
   ]
  },
  {
   "cell_type": "code",
   "execution_count": null,
   "id": "32e3dfea",
   "metadata": {},
   "outputs": [],
   "source": [
    "momentum_period = 90\n",
    "for symbol in stockList:\n",
    "    df['Momentum', symbol] = df['Close', symbol].pct_change(momentum_period)\n"
   ]
  },
  {
   "cell_type": "code",
   "execution_count": null,
   "id": "9e6517d2",
   "metadata": {},
   "outputs": [],
   "source": [
    "# Defining the moving average period\n",
    "sma_period = 5  # Example: 10-day moving average. Adjust this based on your preferences.\n",
    "\n",
    "thresholds = {}\n",
    "\n",
    "for symbol in stockList:\n",
    "    # Calculate the moving average of the momentum\n",
    "    df['Smoothed_Momentum', symbol] = df['Momentum', symbol].rolling(window=sma_period).mean()\n",
    "\n",
    "    # Set the buy and sell thresholds for the specific symbol\n",
    "    buy_threshold = df['Smoothed_Momentum', symbol].quantile(0.75)\n",
    "    sell_threshold = df['Smoothed_Momentum', symbol].quantile(0.25)\n",
    "    thresholds[symbol] = {'buy': buy_threshold, 'sell': sell_threshold}\n",
    "\n",
    "    # Generate signals based on the smoothed momentum and the respective thresholds\n",
    "    df['Signal', symbol] = 0\n",
    "    df.loc[df['Smoothed_Momentum', symbol] > thresholds[symbol]['buy'], ('Signal', symbol)] = 1\n",
    "    df.loc[df['Smoothed_Momentum', symbol] < thresholds[symbol]['sell'], ('Signal', symbol)] = -1\n"
   ]
  },
  {
   "cell_type": "code",
   "execution_count": null,
   "id": "95f55dd7",
   "metadata": {},
   "outputs": [],
   "source": [
    "momentum_period = 90\n",
    "buy_threshold_AMC = df['Smoothed_Momentum', 'AMC'].quantile(0.75)\n",
    "sell_threshold_AMC = df['Smoothed_Momentum', 'AMC'].quantile(0.25)\n",
    "\n",
    "buy_threshold_GME = df['Smoothed_Momentum', 'GME'].quantile(0.75)\n",
    "sell_threshold_GME = df['Smoothed_Momentum', 'GME'].quantile(0.25)\n",
    "\n",
    "# Initialize signals as 0\n",
    "df[('Signal', 'AMC')] = 0\n",
    "df[('Signal', 'GME')] = 0\n",
    "\n",
    "# Iterate over rows to generate signals\n",
    "for i, row in df.iterrows():\n",
    "    # For AMC\n",
    "    if row['Smoothed_Momentum', 'AMC'] > buy_threshold_AMC:\n",
    "        df.at[i, ('Signal', 'AMC')] = 1\n",
    "    elif row['Smoothed_Momentum', 'AMC'] < sell_threshold_AMC:\n",
    "        df.at[i, ('Signal', 'AMC')] = -1\n",
    "\n",
    "    # For GME\n",
    "    if row['Smoothed_Momentum', 'GME'] > buy_threshold_GME:\n",
    "        df.at[i, ('Signal', 'GME')] = 1\n",
    "    elif row['Smoothed_Momentum', 'GME'] < sell_threshold_GME:\n",
    "        df.at[i, ('Signal', 'GME')] = -1\n",
    "\n",
    "# Implement Price Momentum Trading logic\n",
    "capital = 100000\n",
    "position = {symbol: 0 for symbol in stockList}\n",
    "shares_owned = {symbol: 0 for symbol in stockList}\n",
    "\n",
    "for i in range(1, len(df)):\n",
    "    for symbol in stockList:\n",
    "        momentum_signal = df.iloc[i][('Signal', symbol)]\n",
    "        close_price = df.iloc[i][('Close', symbol)]\n",
    "        \n",
    "        # Check for buy signal\n",
    "        if momentum_signal == 1 and position[symbol] == 0:\n",
    "            shares_to_buy = capital // (2 * close_price)  # assuming equal distribution of capital\n",
    "            shares_owned[symbol] += shares_to_buy\n",
    "            capital -= shares_to_buy * close_price\n",
    "            position[symbol] = 1\n",
    "        \n",
    "        # Check for sell signal\n",
    "        elif momentum_signal == -1 and position[symbol] == 0:\n",
    "            shares_to_sell_short = capital // (2 * close_price)\n",
    "            shares_owned[symbol] -= shares_to_sell_short\n",
    "            capital += shares_to_sell_short * close_price\n",
    "            position[symbol] = -1\n",
    "        \n",
    "        # Check for neutral signal or closing positions\n",
    "        elif momentum_signal == 0:\n",
    "            if position[symbol] == 1:\n",
    "                capital += shares_owned[symbol] * close_price\n",
    "                shares_owned[symbol] = 0\n",
    "            elif position[symbol] == -1:\n",
    "                capital -= shares_owned[symbol] * close_price\n",
    "                shares_owned[symbol] = 0\n",
    "            position[symbol] = 0\n",
    "\n",
    "\n",
    "# Calculate strategy returns\n",
    "for symbol in stockList:\n",
    "    df['Strategy_Returns', symbol] = df['Signal', symbol].shift(1) * df['Close', symbol].pct_change()\n",
    "    df['Cumulative_Strategy_Returns', symbol] = (1 + df['Strategy_Returns', symbol]).cumprod()\n",
    "\n"
   ]
  },
  {
   "cell_type": "code",
   "execution_count": null,
   "id": "5530d039",
   "metadata": {},
   "outputs": [],
   "source": [
    "plt.figure(figsize=(14, 6))\n",
    "\n",
    "# Plotting the momentum and smoothed momentum for AMC\n",
    "plt.subplot(1, 2, 1)\n",
    "plt.plot(df.index, df['Momentum', 'AMC'], label='AMC Momentum', color='blue')\n",
    "plt.plot(df.index, df['Smoothed_Momentum', 'AMC'], label='AMC Smoothed Momentum', color='orange', linestyle='--')\n",
    "plt.axhline(y=buy_threshold_AMC, color='g', linestyle='--', label=f'Buy Threshold (AMC: {buy_threshold_AMC:.2f})')\n",
    "plt.axhline(y=sell_threshold_AMC, color='r', linestyle='--', label=f'Sell Threshold (AMC: {sell_threshold_AMC:.2f})')\n",
    "plt.title('AMC Price Momentum over Time')\n",
    "plt.xlabel('Date')\n",
    "plt.ylabel('Momentum')\n",
    "plt.legend()\n",
    "plt.grid(True)\n",
    "\n",
    "# Plotting the momentum and smoothed momentum for GME\n",
    "plt.subplot(1, 2, 2)\n",
    "plt.plot(df.index, df['Momentum', 'GME'], label='GME Momentum', color='red')\n",
    "plt.plot(df.index, df['Smoothed_Momentum', 'GME'], label='GME Smoothed Momentum', color='purple', linestyle='--')\n",
    "plt.axhline(y=buy_threshold_GME, color='g', linestyle='--', label=f'Buy Threshold (GME: {buy_threshold_GME:.2f})')\n",
    "plt.axhline(y=sell_threshold_GME, color='r', linestyle='--', label=f'Sell Threshold (GME: {sell_threshold_GME:.2f})')\n",
    "plt.title('GME Price Momentum over Time')\n",
    "plt.xlabel('Date')\n",
    "plt.ylabel('Momentum')\n",
    "plt.legend()\n",
    "plt.grid(True)\n",
    "\n",
    "plt.tight_layout()\n",
    "plt.show()\n"
   ]
  },
  {
   "cell_type": "code",
   "execution_count": null,
   "id": "e59fcff9",
   "metadata": {},
   "outputs": [],
   "source": [
    "# Calculate the actual cumulative returns for GME and AMC for comparison\n",
    "df['Cumulative_Return_GME'] = (1 + df['Close', 'GME'].pct_change()).cumprod()\n",
    "df['Cumulative_Return_AMC'] = (1 + df['Close', 'AMC'].pct_change()).cumprod()\n",
    "\n",
    "plt.figure(figsize=(14, 12))\n",
    "\n",
    "# Plot for GME\n",
    "plt.subplot(2, 2, 1)  \n",
    "plt.plot(df['Cumulative_Return_GME'], label='Actual Returns', color='blue')\n",
    "plt.plot(df['Cumulative_Strategy_Returns', 'GME'], label='Momentum Strategy Returns', color='green', linestyle='--')\n",
    "plt.title('GME Cumulative Returns')\n",
    "plt.xlabel('Date')\n",
    "plt.ylabel('Cumulative Returns')\n",
    "plt.legend()\n",
    "\n",
    "# Buy and Sell signals for GME\n",
    "plt.subplot(2, 2, 2) \n",
    "plt.plot(df['Close', 'GME'], label='Price', color='blue')\n",
    "plt.scatter(df[df['Signal', 'GME'] == 1].index, df['Close', 'GME'][df['Signal', 'GME'] == 1], marker='^', color='g', label='Buy Signal', alpha=1)\n",
    "plt.scatter(df[df['Signal', 'GME'] == -1].index, df['Close', 'GME'][df['Signal', 'GME'] == -1], marker='v', color='r', label='Sell Signal', alpha=1)\n",
    "plt.title('GME Buy & Sell Signals')\n",
    "plt.xlabel('Date')\n",
    "plt.ylabel('Price')\n",
    "plt.legend()\n",
    "\n",
    "# Plot for AMC\n",
    "plt.subplot(2, 2, 3)  \n",
    "plt.plot(df['Cumulative_Return_AMC'], label='Actual Returns', color='black')\n",
    "plt.plot(df['Cumulative_Strategy_Returns', 'AMC'], label='Momentum Strategy Returns', color='orange', linestyle='--')\n",
    "plt.title('AMC Cumulative Returns')\n",
    "plt.xlabel('Date')\n",
    "plt.ylabel('Cumulative Returns')\n",
    "plt.legend()\n",
    "\n",
    "# Buy and Sell signals for AMC\n",
    "plt.subplot(2, 2, 4) \n",
    "plt.plot(df['Close', 'AMC'], label='Price', color='black')\n",
    "plt.scatter(df[df['Signal', 'AMC'] == 1].index, df['Close', 'AMC'][df['Signal', 'AMC'] == 1], marker='^', color='g', label='Buy Signal', alpha=1)\n",
    "plt.scatter(df[df['Signal', 'AMC'] == -1].index, df['Close', 'AMC'][df['Signal', 'AMC'] == -1], marker='v', color='r', label='Sell Signal', alpha=1)\n",
    "plt.title('AMC Buy & Sell Signals')\n",
    "plt.xlabel('Date')\n",
    "plt.ylabel('Price')\n",
    "plt.legend()\n",
    "\n",
    "plt.tight_layout()\n",
    "plt.show()\n"
   ]
  },
  {
   "cell_type": "code",
   "execution_count": null,
   "id": "ecaa4054",
   "metadata": {},
   "outputs": [],
   "source": [
    "df.head()"
   ]
  },
  {
   "cell_type": "markdown",
   "id": "3c1fa5b2",
   "metadata": {},
   "source": [
    "## Volatility Strategy"
   ]
  },
  {
   "cell_type": "code",
   "execution_count": null,
   "id": "dd1ea52a",
   "metadata": {},
   "outputs": [],
   "source": [
    "# Bollinger Bands parameters\n",
    "n = 20  # Number of days for SMA\n",
    "k = 2  # Multiplier for standard deviation\n",
    "\n",
    "for symbol in stockList:\n",
    "    # Calculate the SMA for the Bollinger Bands\n",
    "    df['SMA', symbol] = df['Close', symbol].rolling(window=n).mean()\n",
    "    \n",
    "    # Calculate the standard deviation for the Bollinger Bands\n",
    "    df['STD', symbol] = df['Close', symbol].rolling(window=n).std()\n",
    "    \n",
    "    # Calculate the upper and lower Bollinger Bands\n",
    "    df['Upper_Band', symbol] = df['SMA', symbol] + (df['STD', symbol] * k)\n",
    "    df['Lower_Band', symbol] = df['SMA', symbol] - (df['STD', symbol] * k)\n",
    "    \n",
    "    # Generate volatility-based signals (Bollinger Bands)\n",
    "    df['Volatility_Signal', symbol] = 0  # Default to 0\n",
    "    df.loc[(df['Close', symbol].shift(1) < df['Lower_Band', symbol].shift(1)) & \n",
    "           (df['Close', symbol] > df['Lower_Band', symbol]), ('Volatility_Signal', symbol)] = 1\n",
    "    df.loc[(df['Close', symbol].shift(1) > df['Upper_Band', symbol].shift(1)) & \n",
    "           (df['Close', symbol] < df['Upper_Band', symbol]), ('Volatility_Signal', symbol)] = -1\n"
   ]
  },
  {
   "cell_type": "code",
   "execution_count": null,
   "id": "70fb7739",
   "metadata": {},
   "outputs": [],
   "source": [
    "def plot_stock_with_signals(df, symbol):\n",
    "    plt.figure(figsize=(14, 7))\n",
    "\n",
    "    # Plot closing price\n",
    "    plt.plot(df.index, df['Close', symbol], label='Close Price', color='blue')\n",
    "    \n",
    "    # Plot Bollinger Bands\n",
    "    plt.plot(df.index, df['Upper_Band', symbol], label='Upper Bollinger Band', color='lightgray')\n",
    "    plt.plot(df.index, df['Lower_Band', symbol], label='Lower Bollinger Band', color='lightgray')\n",
    "    \n",
    "    # Get indices for buy and sell signals\n",
    "    buy_signals = df[df['Volatility_Signal', symbol] == 1].index\n",
    "    sell_signals = df[df['Volatility_Signal', symbol] == -1].index\n",
    "    \n",
    "    # Plot buy signals\n",
    "    plt.scatter(buy_signals, \n",
    "                df.loc[buy_signals, ('Close', symbol)], \n",
    "                label='Buy Signal', marker='^', alpha=1, color='g', s=100)\n",
    "    \n",
    "    # Plot sell signals\n",
    "    plt.scatter(sell_signals, \n",
    "                df.loc[sell_signals, ('Close', symbol)], \n",
    "                label='Sell Signal', marker='v', alpha=1, color='r', s=100)\n",
    "    \n",
    "    plt.title(f'{symbol} Close Price with Bollinger Bands')\n",
    "    plt.xlabel('Date')\n",
    "    plt.ylabel('Close Price')\n",
    "    plt.legend()\n",
    "    plt.grid(True)\n",
    "    plt.tight_layout()\n",
    "    plt.show()\n",
    "\n",
    "# Plot for AMC\n",
    "plot_stock_with_signals(df, 'AMC')\n",
    "\n",
    "# Plot for GME\n",
    "plot_stock_with_signals(df, 'GME')\n"
   ]
  },
  {
   "cell_type": "code",
   "execution_count": null,
   "id": "c9d8a282",
   "metadata": {},
   "outputs": [],
   "source": [
    "import matplotlib.pyplot as plt\n",
    "\n",
    "def plot_sentiment_signals(df, symbol):\n",
    "    plt.figure(figsize=(15, 7))\n",
    "    \n",
    "    # Plotting the closing prices\n",
    "    plt.plot(df.index, df['Close', symbol], label=f'{symbol} Close Price', alpha=0.7)\n",
    "    \n",
    "    # Plotting the buy signals\n",
    "    buys = df[df['sentiment_signal'] == 1]\n",
    "    plt.scatter(buys.index, df['Close', symbol][buys.index], label='Buy Signal', marker='^', color='g', alpha=1.0)\n",
    "    \n",
    "    # Plotting the sell signals\n",
    "    sells = df[df['sentiment_signal'] == -1]\n",
    "    plt.scatter(sells.index, df['Close', symbol][sells.index], label='Sell Signal', marker='v', color='r', alpha=1.0)\n",
    "    \n",
    "    plt.title(f'{symbol} Closing Price with Sentiment Buy/Sell Signals')\n",
    "    plt.xlabel('Date')\n",
    "    plt.ylabel('Price')\n",
    "    plt.legend(loc='best')\n",
    "    plt.grid(True)\n",
    "    plt.tight_layout()\n",
    "    plt.show()\n",
    "\n",
    "# Plot for AMC\n",
    "plot_sentiment_signals(df, 'AMC')\n",
    "\n",
    "# Plot for GME\n",
    "plot_sentiment_signals(df, 'GME')\n"
   ]
  },
  {
   "cell_type": "code",
   "execution_count": null,
   "id": "2a618697",
   "metadata": {},
   "outputs": [],
   "source": [
    "import matplotlib.pyplot as plt\n",
    "\n",
    "# Count the occurrences of each unique value\n",
    "sentiment_counts = df['sentiment_signal'].value_counts()\n",
    "\n",
    "# Generate the bar plot\n",
    "sentiment_counts.plot(kind='bar', figsize=(10, 6), color=['skyblue', 'salmon', 'lightgreen'], alpha=0.8)\n",
    "\n",
    "# Setting title and labels\n",
    "plt.title('Distribution of Sentiment Signals')\n",
    "plt.xlabel('Sentiment Signal')\n",
    "plt.ylabel('Count')\n",
    "plt.xticks(rotation=0)\n",
    "plt.grid(axis='y')\n",
    "\n",
    "# Display the plot\n",
    "plt.tight_layout()\n",
    "plt.show()\n"
   ]
  },
  {
   "cell_type": "code",
   "execution_count": null,
   "id": "942f2899",
   "metadata": {},
   "outputs": [],
   "source": []
  },
  {
   "cell_type": "code",
   "execution_count": null,
   "id": "35fc3b72",
   "metadata": {},
   "outputs": [],
   "source": []
  },
  {
   "cell_type": "code",
   "execution_count": null,
   "id": "af1a9cdf",
   "metadata": {},
   "outputs": [],
   "source": [
    "momentum_period = 90\n",
    "\n",
    "# Define buy and sell thresholds for AMC and GME\n",
    "buy_threshold_AMC = df['Smoothed_Momentum', 'AMC'].quantile(0.75)\n",
    "sell_threshold_AMC = df['Smoothed_Momentum', 'AMC'].quantile(0.25)\n",
    "\n",
    "buy_threshold_GME = df['Smoothed_Momentum', 'GME'].quantile(0.75)\n",
    "sell_threshold_GME = df['Smoothed_Momentum', 'GME'].quantile(0.25)\n",
    "\n",
    "# Initialize signals as 0\n",
    "df[('Signal', 'AMC')] = 0\n",
    "df[('Signal', 'GME')] = 0\n",
    "\n",
    "# Iterate over rows to generate signals, incorporating sentiment\n",
    "for i, row in df.iterrows():\n",
    "    # For AMC\n",
    "    if row['Smoothed_Momentum', 'AMC'] > buy_threshold_AMC and row['sentiment_signal'] == 1:\n",
    "        df.at[i, ('Signal', 'AMC')] = 1\n",
    "    elif row['Smoothed_Momentum', 'AMC'] < sell_threshold_AMC and row['sentiment_signal'] == -1:\n",
    "        df.at[i, ('Signal', 'AMC')] = -1\n",
    "\n",
    "    # For GME\n",
    "    if row['Smoothed_Momentum', 'GME'] > buy_threshold_GME and row['sentiment_signal'] == 1:\n",
    "        df.at[i, ('Signal', 'GME')] = 1\n",
    "    elif row['Smoothed_Momentum', 'GME'] < sell_threshold_GME and row['sentiment_signal'] == -1:\n",
    "        df.at[i, ('Signal', 'GME')] = -1\n"
   ]
  },
  {
   "cell_type": "code",
   "execution_count": null,
   "id": "9c9cb1c0",
   "metadata": {},
   "outputs": [],
   "source": []
  },
  {
   "cell_type": "code",
   "execution_count": null,
   "id": "17a214ef",
   "metadata": {},
   "outputs": [],
   "source": []
  },
  {
   "cell_type": "code",
   "execution_count": null,
   "id": "21ea4708",
   "metadata": {},
   "outputs": [],
   "source": []
  }
 ],
 "metadata": {
  "kernelspec": {
   "display_name": "Python 3 (ipykernel)",
   "language": "python",
   "name": "python3"
  },
  "language_info": {
   "codemirror_mode": {
    "name": "ipython",
    "version": 3
   },
   "file_extension": ".py",
   "mimetype": "text/x-python",
   "name": "python",
   "nbconvert_exporter": "python",
   "pygments_lexer": "ipython3",
   "version": "3.11.4"
  }
 },
 "nbformat": 4,
 "nbformat_minor": 5
}
